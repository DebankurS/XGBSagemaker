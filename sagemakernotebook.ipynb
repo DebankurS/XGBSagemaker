{
 "cells": [
  {
   "cell_type": "code",
   "execution_count": null,
   "id": "69195a08",
   "metadata": {
    "vscode": {
     "languageId": "plaintext"
    }
   },
   "outputs": [],
   "source": [
    "import sagemaker\n",
    "from sagemaker.estimator import Estimator\n",
    "\n",
    "role = sagemaker.get_execution_role()\n",
    "session = sagemaker.Session()\n",
    "\n",
    "bucket=\"sagemaker-ap-south-1-531181936590\"\n",
    "prefix = \"mslr\""
   ]
  },
  {
   "cell_type": "code",
   "execution_count": null,
   "id": "81a166fd",
   "metadata": {
    "vscode": {
     "languageId": "plaintext"
    }
   },
   "outputs": [],
   "source": [
    "image_uri = \"531181936590.dkr.ecr.ap-south-1.amazonaws.com/debankurs/sagemakerimages:latest\"\n",
    "\n",
    "estimator = Estimator(\n",
    "    image_uri=image_uri,\n",
    "    role=role,\n",
    "    instance_count=1,\n",
    "    instance_type='ml.m5.large',\n",
    "    output_path=f's3://{bucket}/{prefix}/model',\n",
    "    sagemaker_session=session,\n",
    ")\n",
    "\n",
    "estimator.fit(inputs={\n",
    "    'train': f's3://{bucket}/{prefix}/Fold1',\n",
    "    'validation': f's3://{bucket}/{prefix}/Fold1'\n",
    "},logs=True)\n"
   ]
  },
  {
   "cell_type": "code",
   "execution_count": null,
   "id": "3dabc45e",
   "metadata": {
    "vscode": {
     "languageId": "plaintext"
    }
   },
   "outputs": [],
   "source": [
    "inference_image=\"531181936590.dkr.ecr.ap-south-1.amazonaws.com/debankurs/xgbinference:latest\"\n",
    "model = estimator.create_model(\n",
    "    image_uri=inference_image\n",
    ")\n",
    "\n",
    "predictor = model.deploy(\n",
    "    initial_instance_count=1,\n",
    "    instance_type=\"ml.m5.large\",\n",
    "    endpoint_name=\"xgbranker\"\n",
    ")\n"
   ]
  }
 ],
 "metadata": {
  "language_info": {
   "name": "python"
  }
 },
 "nbformat": 4,
 "nbformat_minor": 5
}
